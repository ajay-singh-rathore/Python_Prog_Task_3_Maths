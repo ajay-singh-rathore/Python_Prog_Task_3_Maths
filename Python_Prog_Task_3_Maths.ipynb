{
  "nbformat": 4,
  "nbformat_minor": 0,
  "metadata": {
    "colab": {
      "provenance": [],
      "authorship_tag": "ABX9TyPm6MgqP0h6i8SINi4TuLfS",
      "include_colab_link": true
    },
    "kernelspec": {
      "name": "python3",
      "display_name": "Python 3"
    },
    "language_info": {
      "name": "python"
    }
  },
  "cells": [
    {
      "cell_type": "markdown",
      "metadata": {
        "id": "view-in-github",
        "colab_type": "text"
      },
      "source": [
        "<a href=\"https://colab.research.google.com/github/ajay-singh-rathore/Python_Prog_Task_3_Maths/blob/main/Python_Prog_Task_3_Maths.ipynb\" target=\"_parent\"><img src=\"https://colab.research.google.com/assets/colab-badge.svg\" alt=\"Open In Colab\"/></a>"
      ]
    },
    {
      "cell_type": "markdown",
      "source": [
        "### Polar Coordinates\n",
        "Question Link: https://www.hackerrank.com/challenges/polar-coordinates/problem?isFullScreen=true"
      ],
      "metadata": {
        "id": "QD0tSbdAJBuu"
      }
    },
    {
      "cell_type": "code",
      "execution_count": null,
      "metadata": {
        "id": "B9JDzwQ4Iwvz"
      },
      "outputs": [],
      "source": [
        "# Enter your code here. Read input from STDIN. Print output to STDOUT\n",
        "import cmath\n",
        "\n",
        "c = complex(input())\n",
        "print(abs(c))\n",
        "print(cmath.phase(c))"
      ]
    },
    {
      "cell_type": "markdown",
      "source": [
        "### Find Angle MBC\n",
        "Question Link: https://www.hackerrank.com/challenges/find-angle/problem?isFullScreen=true"
      ],
      "metadata": {
        "id": "ZhOGTDcQJxWW"
      }
    },
    {
      "cell_type": "code",
      "source": [
        "from math import atan, degrees\n",
        "AB = int(input())\n",
        "BC = int(input())\n",
        "\n",
        "angleC = atan(AB/BC)\n",
        "print((round(degrees(angleC))),chr(176),sep='')"
      ],
      "metadata": {
        "id": "i1r_GdAvJ4vS"
      },
      "execution_count": null,
      "outputs": []
    },
    {
      "cell_type": "markdown",
      "source": [
        "### Triangle Quest 2\n",
        "Question Link: https://www.hackerrank.com/challenges/triangle-quest-2/problem?isFullScreen=true"
      ],
      "metadata": {
        "id": "H1EJ5uJcLmo4"
      }
    },
    {
      "cell_type": "code",
      "source": [
        "for i in range(1, int(input())+1):\n",
        "    print((10**i//9)**2)"
      ],
      "metadata": {
        "id": "LA6VNijFLsgl"
      },
      "execution_count": null,
      "outputs": []
    },
    {
      "cell_type": "markdown",
      "source": [
        "### Mod Divmod\n",
        "Question Link: https://www.hackerrank.com/challenges/python-mod-divmod/problem?isFullScreen=true"
      ],
      "metadata": {
        "id": "8J-3ql1SMSGj"
      }
    },
    {
      "cell_type": "code",
      "source": [
        "# Enter your code here. Read input from STDIN. Print output to STDOUT\n",
        "a = int(input())\n",
        "b = int(input())\n",
        "\n",
        "print(a // b)\n",
        "print(a % b)\n",
        "print (divmod(a, b))"
      ],
      "metadata": {
        "id": "fnJEeNFZMWBW"
      },
      "execution_count": null,
      "outputs": []
    },
    {
      "cell_type": "markdown",
      "source": [
        "### Power - Mod Power\n",
        "Question Link: https://www.hackerrank.com/challenges/python-power-mod-power/problem?isFullScreen=true"
      ],
      "metadata": {
        "id": "rILu_R0mMk5p"
      }
    },
    {
      "cell_type": "code",
      "source": [
        "# Enter your code here. Read input from STDIN. Print output to STDOUT\n",
        "a=int(input())\n",
        "b=int(input())\n",
        "m=int(input())\n",
        "print(pow(a,b))\n",
        "print(pow(a,b,m))"
      ],
      "metadata": {
        "id": "IpT1WMABMZV4"
      },
      "execution_count": null,
      "outputs": []
    },
    {
      "cell_type": "markdown",
      "source": [
        "### Integers Come In All Sizes\n",
        "Question Link: https://www.hackerrank.com/challenges/python-integers-come-in-all-sizes/problem?isFullScreen=true"
      ],
      "metadata": {
        "id": "HbE61awuQEv7"
      }
    },
    {
      "cell_type": "code",
      "source": [
        "# Enter your code here. Read input from STDIN. Print output to STDOUT\n",
        "a,b,c,d = [int(input()) for i in range(4)]\n",
        "\n",
        "print(pow(a,b)+pow(c,d))"
      ],
      "metadata": {
        "id": "eYGIKoa5QLCC"
      },
      "execution_count": null,
      "outputs": []
    },
    {
      "cell_type": "markdown",
      "source": [
        "### Triangle Quest\n",
        "Question Link : https://www.hackerrank.com/challenges/python-quest-1/problem?isFullScreen=true"
      ],
      "metadata": {
        "id": "m07gCKjHQnUz"
      }
    },
    {
      "cell_type": "code",
      "source": [
        "for i in range(1,int(input())): \n",
        "    print((pow(10,i)//9)*i)\n"
      ],
      "metadata": {
        "id": "Q1Kf6HBQQsYx"
      },
      "execution_count": null,
      "outputs": []
    }
  ]
}